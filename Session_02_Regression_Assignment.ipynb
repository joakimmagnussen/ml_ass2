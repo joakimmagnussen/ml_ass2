{
 "cells": [
  {
   "cell_type": "markdown",
   "metadata": {},
   "source": [
    "# Session 02 - Regression - Assignment\n",
    "***Name: Joakim Magnussen***"
   ]
  },
  {
   "cell_type": "code",
   "execution_count": 542,
   "metadata": {},
   "outputs": [],
   "source": [
    "%matplotlib inline\n",
    "import numpy as np\n",
    "import pandas as pd\n",
    "import matplotlib.pyplot as plt\n",
    "import datetime\n",
    "import calendar\n",
    "from sklearn import linear_model\n",
    "from sklearn.model_selection import train_test_split\n",
    "from sklearn import preprocessing\n",
    "from sklearn.linear_model import Ridge\n",
    "from sklearn.feature_selection import f_regression\n",
    "from sklearn.covariance import EllipticEnvelope\n",
    "\n",
    "from sklearn.preprocessing import StandardScaler\n",
    "from sklearn.preprocessing import MinMaxScaler\n",
    "from sklearn.preprocessing import RobustScaler\n",
    "\n",
    "import seaborn as sns; sns.set(color_codes=True)"
   ]
  },
  {
   "cell_type": "markdown",
   "metadata": {},
   "source": [
    "## 1. Wine quality\n",
    "\n",
    "A lot of portugese Vinho Verde wines (http://www.vinhoverde.pt/en/) have been chemically analized. They have also been rated by a panel of wine experts. \n",
    "\n",
    "The features comprise:\n",
    "1- fixed acidity | 2 - volatile acidity | 3 - citric acid | 4 - residual sugar | 5 - chlorides | 6 - free sulfur dioxide | 7 - total sulfur dioxide | 8 - density | 9 - pH | 10 - sulphates |11 - alcohol\n",
    "\n",
    "The target variable is the quality score\n",
    "\n",
    "Apply regression to (as accurately as possible) predict the quality score of the wine from the chemical parameters.\n"
   ]
  },
  {
   "cell_type": "code",
   "execution_count": 543,
   "metadata": {},
   "outputs": [
    {
     "data": {
      "text/plain": "(1599, 12)"
     },
     "execution_count": 543,
     "metadata": {},
     "output_type": "execute_result"
    }
   ],
   "source": [
    "# Reading the dataset\n",
    "dataset = pd.read_csv('winequality-red.csv', delimiter=';')\n",
    "dataset.shape"
   ]
  },
  {
   "cell_type": "code",
   "execution_count": 544,
   "metadata": {},
   "outputs": [
    {
     "data": {
      "text/plain": "   fixed_acidity  volatile_acidity  citric_acid  residual_sugar  chlorides  \\\n0            7.4              0.70         0.00             1.9      0.076   \n1            7.8              0.88         0.00             2.6      0.098   \n2            7.8              0.76         0.04             2.3      0.092   \n3           11.2              0.28         0.56             1.9      0.075   \n4            7.4              0.70         0.00             1.9      0.076   \n\n   free_sulfur_dioxide  total_sulfur_dioxide  density    pH  sulphates  \\\n0                 11.0                  34.0   0.9978  3.51       0.56   \n1                 25.0                  67.0   0.9968  3.20       0.68   \n2                 15.0                  54.0   0.9970  3.26       0.65   \n3                 17.0                  60.0   0.9980  3.16       0.58   \n4                 11.0                  34.0   0.9978  3.51       0.56   \n\n   alcohol  quality  \n0      9.4        5  \n1      9.8        5  \n2      9.8        5  \n3      9.8        6  \n4      9.4        5  ",
      "text/html": "<div>\n<style scoped>\n    .dataframe tbody tr th:only-of-type {\n        vertical-align: middle;\n    }\n\n    .dataframe tbody tr th {\n        vertical-align: top;\n    }\n\n    .dataframe thead th {\n        text-align: right;\n    }\n</style>\n<table border=\"1\" class=\"dataframe\">\n  <thead>\n    <tr style=\"text-align: right;\">\n      <th></th>\n      <th>fixed_acidity</th>\n      <th>volatile_acidity</th>\n      <th>citric_acid</th>\n      <th>residual_sugar</th>\n      <th>chlorides</th>\n      <th>free_sulfur_dioxide</th>\n      <th>total_sulfur_dioxide</th>\n      <th>density</th>\n      <th>pH</th>\n      <th>sulphates</th>\n      <th>alcohol</th>\n      <th>quality</th>\n    </tr>\n  </thead>\n  <tbody>\n    <tr>\n      <th>0</th>\n      <td>7.4</td>\n      <td>0.70</td>\n      <td>0.00</td>\n      <td>1.9</td>\n      <td>0.076</td>\n      <td>11.0</td>\n      <td>34.0</td>\n      <td>0.9978</td>\n      <td>3.51</td>\n      <td>0.56</td>\n      <td>9.4</td>\n      <td>5</td>\n    </tr>\n    <tr>\n      <th>1</th>\n      <td>7.8</td>\n      <td>0.88</td>\n      <td>0.00</td>\n      <td>2.6</td>\n      <td>0.098</td>\n      <td>25.0</td>\n      <td>67.0</td>\n      <td>0.9968</td>\n      <td>3.20</td>\n      <td>0.68</td>\n      <td>9.8</td>\n      <td>5</td>\n    </tr>\n    <tr>\n      <th>2</th>\n      <td>7.8</td>\n      <td>0.76</td>\n      <td>0.04</td>\n      <td>2.3</td>\n      <td>0.092</td>\n      <td>15.0</td>\n      <td>54.0</td>\n      <td>0.9970</td>\n      <td>3.26</td>\n      <td>0.65</td>\n      <td>9.8</td>\n      <td>5</td>\n    </tr>\n    <tr>\n      <th>3</th>\n      <td>11.2</td>\n      <td>0.28</td>\n      <td>0.56</td>\n      <td>1.9</td>\n      <td>0.075</td>\n      <td>17.0</td>\n      <td>60.0</td>\n      <td>0.9980</td>\n      <td>3.16</td>\n      <td>0.58</td>\n      <td>9.8</td>\n      <td>6</td>\n    </tr>\n    <tr>\n      <th>4</th>\n      <td>7.4</td>\n      <td>0.70</td>\n      <td>0.00</td>\n      <td>1.9</td>\n      <td>0.076</td>\n      <td>11.0</td>\n      <td>34.0</td>\n      <td>0.9978</td>\n      <td>3.51</td>\n      <td>0.56</td>\n      <td>9.4</td>\n      <td>5</td>\n    </tr>\n  </tbody>\n</table>\n</div>"
     },
     "execution_count": 544,
     "metadata": {},
     "output_type": "execute_result"
    }
   ],
   "source": [
    "# Show first rows of the dataset\n",
    "dataset.head()\n"
   ]
  },
  {
   "cell_type": "markdown",
   "metadata": {},
   "source": [
    "### Statistical analysis\n",
    "\n",
    "- Compute an overview of the main statistical parameters. Use the dataset.describe() function.\n",
    "- Check for missing values\n",
    "- Check for outliers\n",
    "- Make a correlation heatmap and discuss the results\n",
    "- Make a pairplot and discuss the results.\n"
   ]
  },
  {
   "cell_type": "code",
   "execution_count": 545,
   "metadata": {},
   "outputs": [
    {
     "data": {
      "text/plain": "       fixed_acidity  volatile_acidity  citric_acid  residual_sugar  \\\ncount    1599.000000       1599.000000  1599.000000     1599.000000   \nmean        8.319637          0.527821     0.270976        2.538806   \nstd         1.741096          0.179060     0.194801        1.409928   \nmin         4.600000          0.120000     0.000000        0.900000   \n25%         7.100000          0.390000     0.090000        1.900000   \n50%         7.900000          0.520000     0.260000        2.200000   \n75%         9.200000          0.640000     0.420000        2.600000   \nmax        15.900000          1.580000     1.000000       15.500000   \n\n         chlorides  free_sulfur_dioxide  total_sulfur_dioxide      density  \\\ncount  1599.000000          1599.000000           1599.000000  1599.000000   \nmean      0.087467            15.874922             46.467792     0.996747   \nstd       0.047065            10.460157             32.895324     0.001887   \nmin       0.012000             1.000000              6.000000     0.990070   \n25%       0.070000             7.000000             22.000000     0.995600   \n50%       0.079000            14.000000             38.000000     0.996750   \n75%       0.090000            21.000000             62.000000     0.997835   \nmax       0.611000            72.000000            289.000000     1.003690   \n\n                pH    sulphates      alcohol      quality  \ncount  1599.000000  1599.000000  1599.000000  1599.000000  \nmean      3.311113     0.658149    10.422983     5.636023  \nstd       0.154386     0.169507     1.065668     0.807569  \nmin       2.740000     0.330000     8.400000     3.000000  \n25%       3.210000     0.550000     9.500000     5.000000  \n50%       3.310000     0.620000    10.200000     6.000000  \n75%       3.400000     0.730000    11.100000     6.000000  \nmax       4.010000     2.000000    14.900000     8.000000  ",
      "text/html": "<div>\n<style scoped>\n    .dataframe tbody tr th:only-of-type {\n        vertical-align: middle;\n    }\n\n    .dataframe tbody tr th {\n        vertical-align: top;\n    }\n\n    .dataframe thead th {\n        text-align: right;\n    }\n</style>\n<table border=\"1\" class=\"dataframe\">\n  <thead>\n    <tr style=\"text-align: right;\">\n      <th></th>\n      <th>fixed_acidity</th>\n      <th>volatile_acidity</th>\n      <th>citric_acid</th>\n      <th>residual_sugar</th>\n      <th>chlorides</th>\n      <th>free_sulfur_dioxide</th>\n      <th>total_sulfur_dioxide</th>\n      <th>density</th>\n      <th>pH</th>\n      <th>sulphates</th>\n      <th>alcohol</th>\n      <th>quality</th>\n    </tr>\n  </thead>\n  <tbody>\n    <tr>\n      <th>count</th>\n      <td>1599.000000</td>\n      <td>1599.000000</td>\n      <td>1599.000000</td>\n      <td>1599.000000</td>\n      <td>1599.000000</td>\n      <td>1599.000000</td>\n      <td>1599.000000</td>\n      <td>1599.000000</td>\n      <td>1599.000000</td>\n      <td>1599.000000</td>\n      <td>1599.000000</td>\n      <td>1599.000000</td>\n    </tr>\n    <tr>\n      <th>mean</th>\n      <td>8.319637</td>\n      <td>0.527821</td>\n      <td>0.270976</td>\n      <td>2.538806</td>\n      <td>0.087467</td>\n      <td>15.874922</td>\n      <td>46.467792</td>\n      <td>0.996747</td>\n      <td>3.311113</td>\n      <td>0.658149</td>\n      <td>10.422983</td>\n      <td>5.636023</td>\n    </tr>\n    <tr>\n      <th>std</th>\n      <td>1.741096</td>\n      <td>0.179060</td>\n      <td>0.194801</td>\n      <td>1.409928</td>\n      <td>0.047065</td>\n      <td>10.460157</td>\n      <td>32.895324</td>\n      <td>0.001887</td>\n      <td>0.154386</td>\n      <td>0.169507</td>\n      <td>1.065668</td>\n      <td>0.807569</td>\n    </tr>\n    <tr>\n      <th>min</th>\n      <td>4.600000</td>\n      <td>0.120000</td>\n      <td>0.000000</td>\n      <td>0.900000</td>\n      <td>0.012000</td>\n      <td>1.000000</td>\n      <td>6.000000</td>\n      <td>0.990070</td>\n      <td>2.740000</td>\n      <td>0.330000</td>\n      <td>8.400000</td>\n      <td>3.000000</td>\n    </tr>\n    <tr>\n      <th>25%</th>\n      <td>7.100000</td>\n      <td>0.390000</td>\n      <td>0.090000</td>\n      <td>1.900000</td>\n      <td>0.070000</td>\n      <td>7.000000</td>\n      <td>22.000000</td>\n      <td>0.995600</td>\n      <td>3.210000</td>\n      <td>0.550000</td>\n      <td>9.500000</td>\n      <td>5.000000</td>\n    </tr>\n    <tr>\n      <th>50%</th>\n      <td>7.900000</td>\n      <td>0.520000</td>\n      <td>0.260000</td>\n      <td>2.200000</td>\n      <td>0.079000</td>\n      <td>14.000000</td>\n      <td>38.000000</td>\n      <td>0.996750</td>\n      <td>3.310000</td>\n      <td>0.620000</td>\n      <td>10.200000</td>\n      <td>6.000000</td>\n    </tr>\n    <tr>\n      <th>75%</th>\n      <td>9.200000</td>\n      <td>0.640000</td>\n      <td>0.420000</td>\n      <td>2.600000</td>\n      <td>0.090000</td>\n      <td>21.000000</td>\n      <td>62.000000</td>\n      <td>0.997835</td>\n      <td>3.400000</td>\n      <td>0.730000</td>\n      <td>11.100000</td>\n      <td>6.000000</td>\n    </tr>\n    <tr>\n      <th>max</th>\n      <td>15.900000</td>\n      <td>1.580000</td>\n      <td>1.000000</td>\n      <td>15.500000</td>\n      <td>0.611000</td>\n      <td>72.000000</td>\n      <td>289.000000</td>\n      <td>1.003690</td>\n      <td>4.010000</td>\n      <td>2.000000</td>\n      <td>14.900000</td>\n      <td>8.000000</td>\n    </tr>\n  </tbody>\n</table>\n</div>"
     },
     "execution_count": 545,
     "metadata": {},
     "output_type": "execute_result"
    }
   ],
   "source": [
    "# Statistical description\n",
    "dataset.describe()"
   ]
  },
  {
   "cell_type": "code",
   "execution_count": 546,
   "outputs": [
    {
     "name": "stdout",
     "output_type": "stream",
     "text": [
      "<class 'pandas.core.frame.DataFrame'>\n",
      "RangeIndex: 1599 entries, 0 to 1598\n",
      "Data columns (total 12 columns):\n",
      " #   Column                Non-Null Count  Dtype  \n",
      "---  ------                --------------  -----  \n",
      " 0   fixed_acidity         1599 non-null   float64\n",
      " 1   volatile_acidity      1599 non-null   float64\n",
      " 2   citric_acid           1599 non-null   float64\n",
      " 3   residual_sugar        1599 non-null   float64\n",
      " 4   chlorides             1599 non-null   float64\n",
      " 5   free_sulfur_dioxide   1599 non-null   float64\n",
      " 6   total_sulfur_dioxide  1599 non-null   float64\n",
      " 7   density               1599 non-null   float64\n",
      " 8   pH                    1599 non-null   float64\n",
      " 9   sulphates             1599 non-null   float64\n",
      " 10  alcohol               1599 non-null   float64\n",
      " 11  quality               1599 non-null   int64  \n",
      "dtypes: float64(11), int64(1)\n",
      "memory usage: 150.0 KB\n"
     ]
    }
   ],
   "source": [
    "# Check for missing values\n",
    "dataset.info()"
   ],
   "metadata": {
    "collapsed": false
   }
  },
  {
   "cell_type": "code",
   "execution_count": 547,
   "metadata": {},
   "outputs": [],
   "source": [
    "# Removing outliers\n",
    "# Don't remove outliers, always a risk, better performance on the training set because all the extreme values are easier to predict. If the model have never seen extreme values before you cant expect it will be able to deal with the extreme values if they are coming along when we are using the model."
   ]
  },
  {
   "cell_type": "code",
   "execution_count": 548,
   "metadata": {},
   "outputs": [
    {
     "data": {
      "text/plain": "<Figure size 1080x720 with 2 Axes>",
      "image/png": "[encoded data removed]"
     },
     "metadata": {},
     "output_type": "display_data"
    }
   ],
   "source": [
    "# Correlation heatmap\n",
    "plt.figure(figsize = [15, 10], facecolor = 'white')\n",
    "sns.heatmap(dataset.corr(), annot = True, linewidths = 2, cmap = \"coolwarm\");"
   ]
  },
  {
   "cell_type": "markdown",
   "source": [
    "#### Reflections on the result of the heatmap:\n",
    "This is a linear relationship which is expressed by correlation coefficient. By this we can get a better view off which features are more important than other features.\n",
    "\n",
    "We can see that this correlation coefficient ranges from ***-1 to +1.*** Values closer to ***0*** can give us an indication that there is no linear trend between the two features. The closer to ***+1*** the coefficient the more positively correlated they are. If one feature increases so does the other. A correlation closer to ***-1*** is similar, but instead of both increasing, one feature will decrease as the other increases.\n",
    "\n",
    "From the heatmap we can see that there are very little coefficient that are close to ***1***. The result is obvious, we have not trained or model, so there are very few correlation between the features.\n",
    "\n",
    "Question:\n",
    "Why cant we know which variable(feature) is influencing one or another? Are there not a linear dependency?\n"
   ],
   "metadata": {
    "collapsed": false
   }
  },
  {
   "cell_type": "code",
   "execution_count": 549,
   "metadata": {},
   "outputs": [],
   "source": [
    "# Pairplot\n",
    "#sns.pairplot(dataset);"
   ]
  },
  {
   "cell_type": "markdown",
   "metadata": {},
   "source": [
    "### Splitting into training set and test set"
   ]
  },
  {
   "cell_type": "code",
   "execution_count": 550,
   "metadata": {},
   "outputs": [],
   "source": [
    "# Split into features and targets.\n",
    "y = dataset['quality'].values                 # Targets\n",
    "X = dataset.drop(['quality'], axis=1).values  # Features\n"
   ]
  },
  {
   "cell_type": "code",
   "execution_count": 551,
   "metadata": {},
   "outputs": [
    {
     "name": "stdout",
     "output_type": "stream",
     "text": [
      "(320, 11)\n"
     ]
    }
   ],
   "source": [
    "# Split into training set and test set. Make sure that 30 percent\n",
    "# of the wines end up in the test set.\n",
    "\n",
    "X_train, X_test, y_train, y_test = train_test_split(X, y, test_size=0.2, random_state=0)\n",
    "\n",
    "print(X_test.shape)"
   ]
  },
  {
   "cell_type": "code",
   "execution_count": 552,
   "metadata": {},
   "outputs": [
    {
     "name": "stdout",
     "output_type": "stream",
     "text": [
      "[[ 0.90103398  0.05480282  0.9094138  ...  0.52091013 -0.22358408\n",
      "  -0.95579434]\n",
      " [ 1.41998736 -1.47967601  0.9094138  ... -1.16841553 -0.68130963\n",
      "  -0.76727388]\n",
      " [ 0.90103398 -0.98645067  1.4208416  ... -0.3237527   0.74908272\n",
      "   0.17532846]\n",
      " ...\n",
      " [-0.25219574  0.21921126  0.19341488 ... -0.12883051  0.17692578\n",
      "  -0.86153411]\n",
      " [ 2.68854005 -0.32881689  1.11398492 ... -0.06385645  0.11971008\n",
      "   2.15479335]\n",
      " [ 0.84337249  2.46612668  0.24455766 ... -0.38872677 -1.0246038\n",
      "  -0.95579434]]\n"
     ]
    }
   ],
   "source": [
    "# Normalize the training set and test set.\n",
    "# We need normalization for getting different features in the same scale. This will accelerate the learning process.\n",
    "# Try other types of scalars -> (MinMaxScaler, StandardScaler, RobustScaler)\n",
    "\n",
    "## RobustScaler -> Similar to MinMaxScaler. Uses only 50% of the dataset. Insensitive to outliers.\n",
    "# scaler = RobustScaler()\n",
    "#\n",
    "## MinMaxScaler - > Scale all features between 0 and 1. Sensitive to outliers(extreme values)\n",
    "# scaler = RobustScaler()\n",
    "\n",
    "# StandardScaler - > Normalization: average/mean = 0, stdev = 1. Less sensitive to outliers. Not on the same scale.\n",
    "scaler = StandardScaler()\n",
    "scaler.fit(X_train)\n",
    "\n",
    "X_train = scaler.transform(X_train)\n",
    "X_test = scaler.transform(X_test)\n",
    "\n",
    "print(X_train)"
   ]
  },
  {
   "cell_type": "markdown",
   "source": [
    "Question:\n",
    "I mean many other features are important to include in this rating table. How do we implement more features..? i.e add a feature that are holding \"quality of the glass\". How would we get this data?\n",
    "- A correlation between variables, however, does not automatically mean that the change in one variable is the cause of the change in the values of the other variable."
   ],
   "metadata": {
    "collapsed": false
   }
  },
  {
   "cell_type": "markdown",
   "metadata": {},
   "source": [
    "### Training the regression model"
   ]
  },
  {
   "cell_type": "code",
   "execution_count": 553,
   "metadata": {},
   "outputs": [
    {
     "data": {
      "text/plain": "LinearRegression()"
     },
     "execution_count": 553,
     "metadata": {},
     "output_type": "execute_result"
    }
   ],
   "source": [
    "from sklearn.linear_model import LinearRegression\n",
    "\n",
    "# Training of the regression model\n",
    "lrmodel = LinearRegression()\n",
    "lrmodel.fit(X_train, y_train)\n"
   ]
  },
  {
   "cell_type": "code",
   "execution_count": 554,
   "metadata": {},
   "outputs": [
    {
     "name": "stdout",
     "output_type": "stream",
     "text": [
      "[ 0.07159633 -0.20975711 -0.03479026  0.04046671 -0.08951577  0.02822324\n",
      " -0.09324311 -0.05930546 -0.03916733  0.16150116  0.28410434]\n"
     ]
    }
   ],
   "source": [
    "# Print and interprete the coëfficiënts and intercept of the model\n",
    "print(lrmodel.coef_)\n",
    "# hei"
   ]
  },
  {
   "cell_type": "markdown",
   "metadata": {},
   "source": [
    "### Testing and predicting\n",
    "Predict the wine quality of a wine with the following chemical parameters:\n",
    "\n",
    "fixed_acidity: 7.3 | \n",
    "volatile_acidity: 0.70 | citric_acid: 0.00 | residual_sugar: 1.9 | chlorides: 0.079 | free_sulfur_dioxide: 11.0 | total_sulfur_dioxide: 34.0 | density: 0.9978 | pH: 3.51 | sulphates: 0.58 | alcohol: 9.4"
   ]
  },
  {
   "cell_type": "code",
   "execution_count": 555,
   "metadata": {},
   "outputs": [
    {
     "data": {
      "text/plain": "array([5.04811376])"
     },
     "execution_count": 555,
     "metadata": {},
     "output_type": "execute_result"
    }
   ],
   "source": [
    "# Prediction of the quality\n",
    "wine = np.array([[7.3, 0.70, 0.00, 1.9, 0.079, 11.0, 34.0, 0.9978, 3.51, 0.58, 9.4]])\n",
    "wine = scaler.transform(wine)\n",
    "\n",
    "lrmodel.predict(wine)"
   ]
  },
  {
   "cell_type": "markdown",
   "metadata": {},
   "source": [
    "Evaluate the model on the test set in terms of MAE, MSE and the $R^2$-score."
   ]
  },
  {
   "cell_type": "code",
   "execution_count": 556,
   "metadata": {},
   "outputs": [
    {
     "name": "stdout",
     "output_type": "stream",
     "text": [
      "MAE =  0.46963309286611155\n",
      "MSE =  0.3844711978201244\n",
      "r2 score =  0.3283887639580222\n",
      "r2 score =  0.3283887639580222\n"
     ]
    }
   ],
   "source": [
    "# Evaluate the model in terms of MAE, MSE and R2-score on the test set\n",
    "y_predicted = lrmodel.predict(X_test)\n",
    "\n",
    "## Mean Absolute Error\n",
    "from sklearn.metrics import mean_absolute_error\n",
    "\n",
    "MAE = mean_absolute_error(y_test,y_predicted)\n",
    "print('MAE = ',MAE)\n",
    "\n",
    "## Mean Squared Error\n",
    "from sklearn.metrics import mean_squared_error\n",
    "\n",
    "MSE = mean_squared_error(y_test,y_predicted)\n",
    "print('MSE = ',MSE)\n",
    "\n",
    "## coefficient of determination = r2 score\n",
    "from sklearn.metrics import r2_score\n",
    "\n",
    "r2 = r2_score(y_test,y_predicted)\n",
    "\n",
    "print('r2 score = ',r2)\n",
    "\n",
    "### alternative for r2 score\n",
    "r2 = lrmodel.score(X_test,y_test)\n",
    "print('r2 score = ', r2)"
   ]
  },
  {
   "cell_type": "markdown",
   "metadata": {},
   "source": [
    "### Model optimization\n",
    "\n",
    "Try to improve the performance of the model. In other words, try to improve the $R^2$-score of the model.\n",
    "Possible options to improve the model performance are:\n",
    "-  Adding higher-order features.\n",
    "- - You can add higher-order features by means of the sklearn.preprocessing.PolynomialFeatures function. Don't go higher than a fourth-order polynomial.\n",
    "- - Use Ridge regression and Lasso regression. Try to find a good value for alpha, the regularization parameter.\n",
    "-  Think of new features that can be added to the dataset or computed from the existing features.\n",
    "- Check for underfitting and overfitting."
   ]
  },
  {
   "cell_type": "code",
   "execution_count": 557,
   "metadata": {},
   "outputs": [],
   "source": [
    "# Model optimization and hyperparameter tuning.\n",
    "from sklearn.preprocessing import PolynomialFeatures\n",
    "\n",
    "# Higher order features\n",
    "degree = 2\n",
    "\n",
    "poly = PolynomialFeatures(degree)\n",
    "poly.fit(X_train)\n",
    "X_train_poly = poly.transform(X_train)\n",
    "X_test_poly = poly.transform(X_test)\n",
    "\n",
    "print(\"Dimen\")"
   ]
  },
  {
   "cell_type": "code",
   "execution_count": 558,
   "outputs": [],
   "source": [
    "# Adding higher order features"
   ],
   "metadata": {
    "collapsed": false
   }
  },
  {
   "cell_type": "markdown",
   "metadata": {},
   "source": [
    "## 2. Insurance\n",
    "\n",
    "The file 'insurance.csv' contains (personal) information about clients of an insurance company. The dataset also has information about the insurance charge the clients pay.\n",
    "\n",
    "The features are:\n",
    "- age: age of the insured client (numerical variable)\n",
    "- sex: sex of the insured client: male or female (categorical variable)\n",
    "- bmi: the bodymass index (numerical variable)\n",
    "- children: number of children the client has (numerical variable)\n",
    "- smoker: whether or not the client smokes (categorical variable)\n",
    "- region: region where the client lives (categorical variable)\n",
    "\n",
    "The target is:\n",
    "- charges: the insurance charge the client pays in dollar (numerical variable)\n",
    "\n",
    "Train a regression model that can accurately predict the insurance charge new clients will pay."
   ]
  },
  {
   "cell_type": "markdown",
   "metadata": {},
   "source": [
    "### Reading the dataset"
   ]
  },
  {
   "cell_type": "code",
   "execution_count": 559,
   "metadata": {},
   "outputs": [
    {
     "data": {
      "text/plain": "   age     sex     bmi  children smoker     region      charges\n0   19  female  27.900         0    yes  southwest  16884.92400\n1   18    male  33.770         1     no  southeast   1725.55230\n2   28    male  33.000         3     no  southeast   4449.46200\n3   33    male  22.705         0     no  northwest  21984.47061\n4   32    male  28.880         0     no  northwest   3866.85520",
      "text/html": "<div>\n<style scoped>\n    .dataframe tbody tr th:only-of-type {\n        vertical-align: middle;\n    }\n\n    .dataframe tbody tr th {\n        vertical-align: top;\n    }\n\n    .dataframe thead th {\n        text-align: right;\n    }\n</style>\n<table border=\"1\" class=\"dataframe\">\n  <thead>\n    <tr style=\"text-align: right;\">\n      <th></th>\n      <th>age</th>\n      <th>sex</th>\n      <th>bmi</th>\n      <th>children</th>\n      <th>smoker</th>\n      <th>region</th>\n      <th>charges</th>\n    </tr>\n  </thead>\n  <tbody>\n    <tr>\n      <th>0</th>\n      <td>19</td>\n      <td>female</td>\n      <td>27.900</td>\n      <td>0</td>\n      <td>yes</td>\n      <td>southwest</td>\n      <td>16884.92400</td>\n    </tr>\n    <tr>\n      <th>1</th>\n      <td>18</td>\n      <td>male</td>\n      <td>33.770</td>\n      <td>1</td>\n      <td>no</td>\n      <td>southeast</td>\n      <td>1725.55230</td>\n    </tr>\n    <tr>\n      <th>2</th>\n      <td>28</td>\n      <td>male</td>\n      <td>33.000</td>\n      <td>3</td>\n      <td>no</td>\n      <td>southeast</td>\n      <td>4449.46200</td>\n    </tr>\n    <tr>\n      <th>3</th>\n      <td>33</td>\n      <td>male</td>\n      <td>22.705</td>\n      <td>0</td>\n      <td>no</td>\n      <td>northwest</td>\n      <td>21984.47061</td>\n    </tr>\n    <tr>\n      <th>4</th>\n      <td>32</td>\n      <td>male</td>\n      <td>28.880</td>\n      <td>0</td>\n      <td>no</td>\n      <td>northwest</td>\n      <td>3866.85520</td>\n    </tr>\n  </tbody>\n</table>\n</div>"
     },
     "execution_count": 559,
     "metadata": {},
     "output_type": "execute_result"
    }
   ],
   "source": [
    "# Read the dataset\n",
    "\n",
    "dataset = pd.read_csv('./insurance.csv')\n",
    "dataset.head()"
   ]
  },
  {
   "cell_type": "markdown",
   "metadata": {},
   "source": [
    "### Preprocessing and statistical analysis\n",
    "\n",
    "- Check for unrealistic or missing values.\n",
    "- Look at the distribution of the different variables (features and target)in the dataset. Plot a histogram of the different variable. Are there normaly distributed variables?\n",
    "- The features sex and smoker contain categorical non-numerical values. Convert them to numbers . For example with the feature 'Sex' you can replace female by the number 1 and male by the number 0. The same goes for the feature 'smoker'. Use the pandas replace function (more info: https://pandas.pydata.org/pandas-docs/stable/reference/api/pandas.DataFrame.replace.html)\n",
    "- The feature 'region' multiple categories. Use one-hot encoding to convert them to numerical representation. More information on one-hot encoding scikit-learn: https://towardsdatascience.com/choosing-the-right-encoding-method-label-vs-onehot-encoder-a4434493149b.\n",
    "- Make a correlation heatmap. Write down some conclusions: eg. Are there features that have a big influence on the charges? Which features are highly correlated with one another? If you would have to discard some features, which ones would it be?\n",
    "- Make a pairplot an formulate some conclusions. \n",
    "- Normalize the features, except the one-hot encoded features. Choose between Standard scaler, MinMax scaler and Robust scaler. \n"
   ]
  },
  {
   "cell_type": "code",
   "execution_count": 560,
   "metadata": {},
   "outputs": [],
   "source": [
    "# replace female->1 , male -> 0\n",
    "\n",
    "# replace smoker yes->1 , no->0\n"
   ]
  },
  {
   "cell_type": "code",
   "execution_count": 561,
   "metadata": {},
   "outputs": [],
   "source": [
    "# statistical summary\n",
    "\n"
   ]
  },
  {
   "cell_type": "code",
   "execution_count": 562,
   "metadata": {},
   "outputs": [],
   "source": [
    "# histograms: age, sex, bmi, number of children, smoker, charges\n",
    "\n"
   ]
  },
  {
   "cell_type": "markdown",
   "metadata": {},
   "source": [
    "#### One-hot encoding of the feature 'region'\n",
    "\n",
    "Use the pandas function 'get_dummies'. The one-hot encoded features will be added as extra columns at the end of the dataframe. Drop the original 'region' column.\n",
    "\n"
   ]
  },
  {
   "cell_type": "code",
   "execution_count": 563,
   "metadata": {},
   "outputs": [],
   "source": [
    "# One-hot encoding of region\n",
    "\n"
   ]
  },
  {
   "cell_type": "markdown",
   "metadata": {},
   "source": [
    "### Make a training set and a test set "
   ]
  },
  {
   "cell_type": "code",
   "execution_count": 564,
   "metadata": {},
   "outputs": [],
   "source": [
    "# Split into features and targets\n",
    "\n"
   ]
  },
  {
   "cell_type": "code",
   "execution_count": 565,
   "metadata": {},
   "outputs": [],
   "source": [
    "# Make a traing set and test set. Make sure you have 300 samples in the test set.\n",
    "\n"
   ]
  },
  {
   "cell_type": "markdown",
   "metadata": {},
   "source": [
    "### Feature scaling\n",
    "Only scale non-categorical features. "
   ]
  },
  {
   "cell_type": "code",
   "execution_count": 566,
   "metadata": {},
   "outputs": [],
   "source": [
    "# Scaling \n",
    "\n",
    "\n",
    "\n",
    "\n",
    "\n"
   ]
  },
  {
   "cell_type": "markdown",
   "metadata": {},
   "source": [
    "### Train and evaluate the regression model\n",
    "\n",
    "Train a regression model. Print the coefficients. Formulate some conclusions.\n"
   ]
  },
  {
   "cell_type": "code",
   "execution_count": 567,
   "metadata": {},
   "outputs": [],
   "source": [
    "# Training\n",
    "\n"
   ]
  },
  {
   "cell_type": "code",
   "execution_count": 568,
   "metadata": {},
   "outputs": [],
   "source": [
    "# print the coefficients, intercept + conclusions"
   ]
  },
  {
   "cell_type": "markdown",
   "metadata": {},
   "source": [
    "Evaluate the trained model on the test set. Use MAE, MSE the $R^2$-score. Forumalate some conclusions."
   ]
  },
  {
   "cell_type": "code",
   "execution_count": 569,
   "metadata": {},
   "outputs": [],
   "source": [
    "# Model evaluation.\n",
    "\n"
   ]
  },
  {
   "cell_type": "markdown",
   "metadata": {},
   "source": [
    "### Model optimization and feature engineering\n",
    "\n",
    "Try to improve the performance of the regression model. This means that you try to lower the MAE and MSE while increasing the $R^2$-score\n",
    "\n",
    "Possible options:\n",
    "- Add extra features (from existing features). \n",
    "- Regularization:Ridge regression and Lasso regression.  \n",
    "- Check for overfitting/underfitting\n",
    "- Add PolynomialFeatures. Don't go higher than 5th order. \n",
    "\n",
    "Discuss the final result."
   ]
  },
  {
   "cell_type": "code",
   "execution_count": 570,
   "metadata": {},
   "outputs": [],
   "source": [
    "# Model optimization\n",
    "\n"
   ]
  },
  {
   "cell_type": "markdown",
   "metadata": {},
   "source": [
    "### Making predictions\n",
    "\n",
    "Predict the charges of the following client:\n",
    "   \n",
    "- age: 30\n",
    "- sex: female\n",
    "- bmi: 22\n",
    "- children: 0\n",
    "- smoker: no\n",
    "- region: northwest"
   ]
  },
  {
   "cell_type": "markdown",
   "metadata": {},
   "source": [
    "## 3. Electricity consumption\n",
    "\n",
    "Every ten minutes the temperture (in degrees Celcius) and the humidity (in %) of a well insulated house was measured for a couple of months. There is also available weather data from a nearby weather station.\n",
    "The power consumption of the electric lighting, together with the power consumption of other electrical appliences was recorded during that period same period. \n",
    "\n",
    "All measurements can be found in 'Energy_consumption.csv'\n",
    "\n",
    "The variables have the following meaning:\n",
    "\n",
    "- date: time year-month-day hour:minute:second\n",
    "- Appliances: energy use in Wh\n",
    "- lights: energy use of light fixtures in the house in Wh\n",
    "- T1: Temperature in kitchen area, in Celsius\n",
    "- RH_1: Humidity in kitchen area, in %\n",
    "- T2: Temperature in living room area, in Celsius\n",
    "- RH_2: Humidity in living room area, in %\n",
    "- T3: Temperature in laundry room area\n",
    "- RH_3: Humidity in laundry room area, in %\n",
    "- T4: Temperature in office room, in Celsius\n",
    "- RH_4: Humidity in office room, in %\n",
    "- T5: Temperature in bathroom, in Celsius\n",
    "- RH_5: Humidity in bathroom, in %\n",
    "- T6: Temperature outside the building (north side), in Celsius\n",
    "- RH_6: Humidity outside the building (north side), in %\n",
    "- T7: Temperature in ironing room , in Celsius\n",
    "- RH_7: Humidity in ironing room, in %\n",
    "- T8: Temperature in teenager room 2, in Celsius\n",
    "- RH_8: Humidity in teenager room 2, in %\n",
    "- T9: Temperature in parents room, in Celsius\n",
    "- RH_9: Humidity in parents room, in %\n",
    "- To: Temperature outside (from Chievres weather station), in Celsius\n",
    "- Pressure: (from Chievres weather station), in mm Hg \n",
    "- RH_out: Humidity outside (from Chievres weather station), in %\n",
    "- Wind speed: (from Chievres weather station), in m/s\n",
    "- Visibility: (from Chievres weather station), in km\n",
    "- Tdewpoint: (from Chievres weather station),\n",
    "- rv1: Random variable 1, nondimensional\n",
    "- rv2: Random variable 2, nondimensional\n",
    "\n",
    "\n",
    "The random variables rv1 and rv2 can be removed from the dataset.\n",
    "\n",
    "\n",
    "The goal of this assignment is to train a regression model that can predict as precisely as possible the electricity consumption of the appliences from the other variables. "
   ]
  },
  {
   "cell_type": "code",
   "execution_count": 571,
   "metadata": {},
   "outputs": [
    {
     "data": {
      "text/plain": "                  date  Appliances  lights     T1       RH_1    T2       RH_2  \\\n0  2016-01-11 17:00:00          60      30  19.89  47.596667  19.2  44.790000   \n1  2016-01-11 17:10:00          60      30  19.89  46.693333  19.2  44.722500   \n2  2016-01-11 17:20:00          50      30  19.89  46.300000  19.2  44.626667   \n3  2016-01-11 17:30:00          50      40  19.89  46.066667  19.2  44.590000   \n4  2016-01-11 17:40:00          60      40  19.89  46.333333  19.2  44.530000   \n\n      T3       RH_3         T4  ...         T9   RH_9     T_out  Press_mm_hg  \\\n0  19.79  44.730000  19.000000  ...  17.033333  45.53  6.600000        733.5   \n1  19.79  44.790000  19.000000  ...  17.066667  45.56  6.483333        733.6   \n2  19.79  44.933333  18.926667  ...  17.000000  45.50  6.366667        733.7   \n3  19.79  45.000000  18.890000  ...  17.000000  45.40  6.250000        733.8   \n4  19.79  45.000000  18.890000  ...  17.000000  45.40  6.133333        733.9   \n\n   RH_out  Windspeed  Visibility  Tdewpoint        rv1        rv2  \n0    92.0   7.000000   63.000000        5.3  13.275433  13.275433  \n1    92.0   6.666667   59.166667        5.2  18.606195  18.606195  \n2    92.0   6.333333   55.333333        5.1  28.642668  28.642668  \n3    92.0   6.000000   51.500000        5.0  45.410389  45.410389  \n4    92.0   5.666667   47.666667        4.9  10.084097  10.084097  \n\n[5 rows x 29 columns]",
      "text/html": "<div>\n<style scoped>\n    .dataframe tbody tr th:only-of-type {\n        vertical-align: middle;\n    }\n\n    .dataframe tbody tr th {\n        vertical-align: top;\n    }\n\n    .dataframe thead th {\n        text-align: right;\n    }\n</style>\n<table border=\"1\" class=\"dataframe\">\n  <thead>\n    <tr style=\"text-align: right;\">\n      <th></th>\n      <th>date</th>\n      <th>Appliances</th>\n      <th>lights</th>\n      <th>T1</th>\n      <th>RH_1</th>\n      <th>T2</th>\n      <th>RH_2</th>\n      <th>T3</th>\n      <th>RH_3</th>\n      <th>T4</th>\n      <th>...</th>\n      <th>T9</th>\n      <th>RH_9</th>\n      <th>T_out</th>\n      <th>Press_mm_hg</th>\n      <th>RH_out</th>\n      <th>Windspeed</th>\n      <th>Visibility</th>\n      <th>Tdewpoint</th>\n      <th>rv1</th>\n      <th>rv2</th>\n    </tr>\n  </thead>\n  <tbody>\n    <tr>\n      <th>0</th>\n      <td>2016-01-11 17:00:00</td>\n      <td>60</td>\n      <td>30</td>\n      <td>19.89</td>\n      <td>47.596667</td>\n      <td>19.2</td>\n      <td>44.790000</td>\n      <td>19.79</td>\n      <td>44.730000</td>\n      <td>19.000000</td>\n      <td>...</td>\n      <td>17.033333</td>\n      <td>45.53</td>\n      <td>6.600000</td>\n      <td>733.5</td>\n      <td>92.0</td>\n      <td>7.000000</td>\n      <td>63.000000</td>\n      <td>5.3</td>\n      <td>13.275433</td>\n      <td>13.275433</td>\n    </tr>\n    <tr>\n      <th>1</th>\n      <td>2016-01-11 17:10:00</td>\n      <td>60</td>\n      <td>30</td>\n      <td>19.89</td>\n      <td>46.693333</td>\n      <td>19.2</td>\n      <td>44.722500</td>\n      <td>19.79</td>\n      <td>44.790000</td>\n      <td>19.000000</td>\n      <td>...</td>\n      <td>17.066667</td>\n      <td>45.56</td>\n      <td>6.483333</td>\n      <td>733.6</td>\n      <td>92.0</td>\n      <td>6.666667</td>\n      <td>59.166667</td>\n      <td>5.2</td>\n      <td>18.606195</td>\n      <td>18.606195</td>\n    </tr>\n    <tr>\n      <th>2</th>\n      <td>2016-01-11 17:20:00</td>\n      <td>50</td>\n      <td>30</td>\n      <td>19.89</td>\n      <td>46.300000</td>\n      <td>19.2</td>\n      <td>44.626667</td>\n      <td>19.79</td>\n      <td>44.933333</td>\n      <td>18.926667</td>\n      <td>...</td>\n      <td>17.000000</td>\n      <td>45.50</td>\n      <td>6.366667</td>\n      <td>733.7</td>\n      <td>92.0</td>\n      <td>6.333333</td>\n      <td>55.333333</td>\n      <td>5.1</td>\n      <td>28.642668</td>\n      <td>28.642668</td>\n    </tr>\n    <tr>\n      <th>3</th>\n      <td>2016-01-11 17:30:00</td>\n      <td>50</td>\n      <td>40</td>\n      <td>19.89</td>\n      <td>46.066667</td>\n      <td>19.2</td>\n      <td>44.590000</td>\n      <td>19.79</td>\n      <td>45.000000</td>\n      <td>18.890000</td>\n      <td>...</td>\n      <td>17.000000</td>\n      <td>45.40</td>\n      <td>6.250000</td>\n      <td>733.8</td>\n      <td>92.0</td>\n      <td>6.000000</td>\n      <td>51.500000</td>\n      <td>5.0</td>\n      <td>45.410389</td>\n      <td>45.410389</td>\n    </tr>\n    <tr>\n      <th>4</th>\n      <td>2016-01-11 17:40:00</td>\n      <td>60</td>\n      <td>40</td>\n      <td>19.89</td>\n      <td>46.333333</td>\n      <td>19.2</td>\n      <td>44.530000</td>\n      <td>19.79</td>\n      <td>45.000000</td>\n      <td>18.890000</td>\n      <td>...</td>\n      <td>17.000000</td>\n      <td>45.40</td>\n      <td>6.133333</td>\n      <td>733.9</td>\n      <td>92.0</td>\n      <td>5.666667</td>\n      <td>47.666667</td>\n      <td>4.9</td>\n      <td>10.084097</td>\n      <td>10.084097</td>\n    </tr>\n  </tbody>\n</table>\n<p>5 rows × 29 columns</p>\n</div>"
     },
     "execution_count": 571,
     "metadata": {},
     "output_type": "execute_result"
    }
   ],
   "source": [
    "dataset = pd.read_csv('Energy_consumption.csv')\n",
    "dataset.head()"
   ]
  },
  {
   "cell_type": "markdown",
   "metadata": {},
   "source": [
    "Try linear regression to predict the Appliences variable from the other variables. \n",
    "\n",
    "You get all the freedom to use the techniques and tricks you want. Your only goals is to achieve the best R²-score on a test set consisting of 5000 samples. It might be useful to use the date and time of the day as features."
   ]
  },
  {
   "cell_type": "code",
   "execution_count": 572,
   "metadata": {},
   "outputs": [
    {
     "data": {
      "text/plain": "   hour     day    month  Appliances  lights     T1       RH_1    T2  \\\n0    17  Monday  January          60      30  19.89  47.596667  19.2   \n1    17  Monday  January          60      30  19.89  46.693333  19.2   \n2    17  Monday  January          50      30  19.89  46.300000  19.2   \n3    17  Monday  January          50      40  19.89  46.066667  19.2   \n4    17  Monday  January          60      40  19.89  46.333333  19.2   \n\n        RH_2     T3  ...         T9   RH_9     T_out  Press_mm_hg  RH_out  \\\n0  44.790000  19.79  ...  17.033333  45.53  6.600000        733.5    92.0   \n1  44.722500  19.79  ...  17.066667  45.56  6.483333        733.6    92.0   \n2  44.626667  19.79  ...  17.000000  45.50  6.366667        733.7    92.0   \n3  44.590000  19.79  ...  17.000000  45.40  6.250000        733.8    92.0   \n4  44.530000  19.79  ...  17.000000  45.40  6.133333        733.9    92.0   \n\n   Windspeed  Visibility  Tdewpoint        rv1        rv2  \n0   7.000000   63.000000        5.3  13.275433  13.275433  \n1   6.666667   59.166667        5.2  18.606195  18.606195  \n2   6.333333   55.333333        5.1  28.642668  28.642668  \n3   6.000000   51.500000        5.0  45.410389  45.410389  \n4   5.666667   47.666667        4.9  10.084097  10.084097  \n\n[5 rows x 31 columns]",
      "text/html": "<div>\n<style scoped>\n    .dataframe tbody tr th:only-of-type {\n        vertical-align: middle;\n    }\n\n    .dataframe tbody tr th {\n        vertical-align: top;\n    }\n\n    .dataframe thead th {\n        text-align: right;\n    }\n</style>\n<table border=\"1\" class=\"dataframe\">\n  <thead>\n    <tr style=\"text-align: right;\">\n      <th></th>\n      <th>hour</th>\n      <th>day</th>\n      <th>month</th>\n      <th>Appliances</th>\n      <th>lights</th>\n      <th>T1</th>\n      <th>RH_1</th>\n      <th>T2</th>\n      <th>RH_2</th>\n      <th>T3</th>\n      <th>...</th>\n      <th>T9</th>\n      <th>RH_9</th>\n      <th>T_out</th>\n      <th>Press_mm_hg</th>\n      <th>RH_out</th>\n      <th>Windspeed</th>\n      <th>Visibility</th>\n      <th>Tdewpoint</th>\n      <th>rv1</th>\n      <th>rv2</th>\n    </tr>\n  </thead>\n  <tbody>\n    <tr>\n      <th>0</th>\n      <td>17</td>\n      <td>Monday</td>\n      <td>January</td>\n      <td>60</td>\n      <td>30</td>\n      <td>19.89</td>\n      <td>47.596667</td>\n      <td>19.2</td>\n      <td>44.790000</td>\n      <td>19.79</td>\n      <td>...</td>\n      <td>17.033333</td>\n      <td>45.53</td>\n      <td>6.600000</td>\n      <td>733.5</td>\n      <td>92.0</td>\n      <td>7.000000</td>\n      <td>63.000000</td>\n      <td>5.3</td>\n      <td>13.275433</td>\n      <td>13.275433</td>\n    </tr>\n    <tr>\n      <th>1</th>\n      <td>17</td>\n      <td>Monday</td>\n      <td>January</td>\n      <td>60</td>\n      <td>30</td>\n      <td>19.89</td>\n      <td>46.693333</td>\n      <td>19.2</td>\n      <td>44.722500</td>\n      <td>19.79</td>\n      <td>...</td>\n      <td>17.066667</td>\n      <td>45.56</td>\n      <td>6.483333</td>\n      <td>733.6</td>\n      <td>92.0</td>\n      <td>6.666667</td>\n      <td>59.166667</td>\n      <td>5.2</td>\n      <td>18.606195</td>\n      <td>18.606195</td>\n    </tr>\n    <tr>\n      <th>2</th>\n      <td>17</td>\n      <td>Monday</td>\n      <td>January</td>\n      <td>50</td>\n      <td>30</td>\n      <td>19.89</td>\n      <td>46.300000</td>\n      <td>19.2</td>\n      <td>44.626667</td>\n      <td>19.79</td>\n      <td>...</td>\n      <td>17.000000</td>\n      <td>45.50</td>\n      <td>6.366667</td>\n      <td>733.7</td>\n      <td>92.0</td>\n      <td>6.333333</td>\n      <td>55.333333</td>\n      <td>5.1</td>\n      <td>28.642668</td>\n      <td>28.642668</td>\n    </tr>\n    <tr>\n      <th>3</th>\n      <td>17</td>\n      <td>Monday</td>\n      <td>January</td>\n      <td>50</td>\n      <td>40</td>\n      <td>19.89</td>\n      <td>46.066667</td>\n      <td>19.2</td>\n      <td>44.590000</td>\n      <td>19.79</td>\n      <td>...</td>\n      <td>17.000000</td>\n      <td>45.40</td>\n      <td>6.250000</td>\n      <td>733.8</td>\n      <td>92.0</td>\n      <td>6.000000</td>\n      <td>51.500000</td>\n      <td>5.0</td>\n      <td>45.410389</td>\n      <td>45.410389</td>\n    </tr>\n    <tr>\n      <th>4</th>\n      <td>17</td>\n      <td>Monday</td>\n      <td>January</td>\n      <td>60</td>\n      <td>40</td>\n      <td>19.89</td>\n      <td>46.333333</td>\n      <td>19.2</td>\n      <td>44.530000</td>\n      <td>19.79</td>\n      <td>...</td>\n      <td>17.000000</td>\n      <td>45.40</td>\n      <td>6.133333</td>\n      <td>733.9</td>\n      <td>92.0</td>\n      <td>5.666667</td>\n      <td>47.666667</td>\n      <td>4.9</td>\n      <td>10.084097</td>\n      <td>10.084097</td>\n    </tr>\n  </tbody>\n</table>\n<p>5 rows × 31 columns</p>\n</div>"
     },
     "execution_count": 572,
     "metadata": {},
     "output_type": "execute_result"
    }
   ],
   "source": [
    "# Convert and split date into month, day, hour\n",
    "dataset['date'] = pd.to_datetime(dataset.date)\n",
    "dataset.insert(0,'month', dataset['date'].dt.month)\n",
    "dataset.insert(0,'day',  dataset['date'].dt.weekday)\n",
    "dataset.insert(0,'hour', dataset['date'].dt.hour)\n",
    "dataset['month'] = dataset['month'].apply(lambda x: calendar.month_name[x])\n",
    "dataset['day'] = dataset['day'].apply(lambda x: calendar.day_name[x])\n",
    "\n",
    "dataset.drop('date',axis=1,inplace=True)\n",
    "\n",
    "dataset.head()"
   ]
  },
  {
   "cell_type": "code",
   "execution_count": 573,
   "metadata": {},
   "outputs": [],
   "source": [
    "# Remove rv1 and rv2 from the dataset\n"
   ]
  },
  {
   "cell_type": "code",
   "execution_count": 574,
   "metadata": {},
   "outputs": [],
   "source": [
    "# One-hot encoding of the categorical features\n"
   ]
  },
  {
   "cell_type": "code",
   "execution_count": 575,
   "metadata": {},
   "outputs": [],
   "source": [
    "# Split into features and targets\n"
   ]
  },
  {
   "cell_type": "code",
   "execution_count": 576,
   "metadata": {},
   "outputs": [],
   "source": [
    "# Split into training set and test set"
   ]
  },
  {
   "cell_type": "code",
   "execution_count": 577,
   "metadata": {},
   "outputs": [],
   "source": [
    "# MinMax scaling\n"
   ]
  },
  {
   "cell_type": "code",
   "execution_count": 578,
   "metadata": {},
   "outputs": [],
   "source": [
    "# Linear regression\n"
   ]
  },
  {
   "cell_type": "code",
   "execution_count": 579,
   "metadata": {},
   "outputs": [],
   "source": [
    "# Model optimazation and hyperparameter tuning of the linear regression model. You are allowed to use features expansion (hihger order features)\n",
    "# Polynomial expansion with Lasso (L1) or Ridge (L2)\n"
   ]
  },
  {
   "cell_type": "code",
   "execution_count": 579,
   "metadata": {},
   "outputs": [],
   "source": []
  }
 ],
 "metadata": {
  "kernelspec": {
   "display_name": "Python 3",
   "language": "python",
   "name": "python3"
  },
  "language_info": {
   "codemirror_mode": {
    "name": "ipython",
    "version": 3
   },
   "file_extension": ".py",
   "mimetype": "text/x-python",
   "name": "python",
   "nbconvert_exporter": "python",
   "pygments_lexer": "ipython3",
   "version": "3.8.5"
  }
 },
 "nbformat": 4,
 "nbformat_minor": 4
}
